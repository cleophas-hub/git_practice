{
  "nbformat": 4,
  "nbformat_minor": 0,
  "metadata": {
    "colab": {
      "provenance": []
    },
    "kernelspec": {
      "name": "python3",
      "display_name": "Python 3"
    },
    "language_info": {
      "name": "python"
    }
  },
  "cells": [
    {
      "cell_type": "code",
      "source": [
        "import random"
      ],
      "metadata": {
        "id": "7BsVqCnDp_NS"
      },
      "execution_count": 2,
      "outputs": []
    },
    {
      "cell_type": "code",
      "source": [
        "names = []\n",
        "\n",
        "# Student_1 ... Student_50\n",
        "for i in range(1,51):\n",
        "  names.append('Student_'+str(i))\n",
        "print(names)"
      ],
      "metadata": {
        "colab": {
          "base_uri": "https://localhost:8080/"
        },
        "id": "l8P1c4h3qE-E",
        "outputId": "3391f69d-2902-445f-857c-19680ecf99bd"
      },
      "execution_count": 3,
      "outputs": [
        {
          "output_type": "stream",
          "name": "stdout",
          "text": [
            "['Student_1', 'Student_2', 'Student_3', 'Student_4', 'Student_5', 'Student_6', 'Student_7', 'Student_8', 'Student_9', 'Student_10', 'Student_11', 'Student_12', 'Student_13', 'Student_14', 'Student_15', 'Student_16', 'Student_17', 'Student_18', 'Student_19', 'Student_20', 'Student_21', 'Student_22', 'Student_23', 'Student_24', 'Student_25', 'Student_26', 'Student_27', 'Student_28', 'Student_29', 'Student_30', 'Student_31', 'Student_32', 'Student_33', 'Student_34', 'Student_35', 'Student_36', 'Student_37', 'Student_38', 'Student_39', 'Student_40', 'Student_41', 'Student_42', 'Student_43', 'Student_44', 'Student_45', 'Student_46', 'Student_47', 'Student_48', 'Student_49', 'Student_50']\n"
          ]
        }
      ]
    },
    {
      "cell_type": "code",
      "source": [
        "random.seed(3)\n",
        "\n",
        "birth_year = []\n",
        "for i in range(50):\n",
        "  birth_year.append(random.randint(1988,2002))\n",
        "print(birth_year)"
      ],
      "metadata": {
        "colab": {
          "base_uri": "https://localhost:8080/"
        },
        "id": "-G_hZ5ilqwU2",
        "outputId": "484c622d-2c1d-4885-b606-201a25ecb13d"
      },
      "execution_count": 8,
      "outputs": [
        {
          "output_type": "stream",
          "name": "stdout",
          "text": [
            "[1991, 1997, 1996, 1990, 1993, 2002, 1997, 1995, 1998, 1997, 1989, 1997, 1988, 2002, 2001, 1995, 1992, 1996, 1991, 1991, 1999, 1995, 1996, 2001, 1996, 1995, 1994, 1998, 2001, 1990, 1991, 1998, 1990, 2001, 2002, 1996, 1994, 1999, 1988, 1998, 2000, 1989, 1990, 2000, 1997, 1988, 1992, 2000, 1988, 2001]\n"
          ]
        }
      ]
    },
    {
      "cell_type": "code",
      "source": [
        "student_attitude = []\n",
        "num = 0\n",
        "while  num<50:\n",
        "  student_attitude.append(random.choice(['Positve', 'Neutral', 'Negative']))\n",
        "  num +=1\n",
        "print(student_attitude)\n",
        "print(len(student_attitude))"
      ],
      "metadata": {
        "colab": {
          "base_uri": "https://localhost:8080/"
        },
        "id": "_pPUJwB9sWef",
        "outputId": "f67097ab-4335-402a-c6a7-65b5b71331de"
      },
      "execution_count": 9,
      "outputs": [
        {
          "output_type": "stream",
          "name": "stdout",
          "text": [
            "['Neutral', 'Neutral', 'Negative', 'Negative', 'Neutral', 'Negative', 'Neutral', 'Neutral', 'Negative', 'Negative', 'Neutral', 'Positve', 'Neutral', 'Positve', 'Positve', 'Positve', 'Neutral', 'Positve', 'Neutral', 'Negative', 'Neutral', 'Negative', 'Neutral', 'Neutral', 'Negative', 'Neutral', 'Negative', 'Neutral', 'Negative', 'Negative', 'Neutral', 'Negative', 'Positve', 'Neutral', 'Negative', 'Positve', 'Neutral', 'Negative', 'Negative', 'Negative', 'Positve', 'Negative', 'Neutral', 'Negative', 'Negative', 'Negative', 'Positve', 'Negative', 'Negative', 'Positve']\n",
            "50\n"
          ]
        }
      ]
    },
    {
      "cell_type": "markdown",
      "source": [],
      "metadata": {
        "id": "YcBS-b9zs7up"
      }
    },
    {
      "cell_type": "code",
      "source": [
        "random.seed(3)\n",
        "student_score = []\n",
        "for i in range(100):\n",
        "  student_score.append(random.randint(0,100))\n",
        "print(student_score)"
      ],
      "metadata": {
        "colab": {
          "base_uri": "https://localhost:8080/"
        },
        "id": "C4Z-mogDxzSq",
        "outputId": "eb02c745-9fc3-4c90-d270-3ee6f054733d"
      },
      "execution_count": 10,
      "outputs": [
        {
          "output_type": "stream",
          "name": "stdout",
          "text": [
            "[30, 75, 69, 16, 47, 77, 60, 80, 74, 8, 77, 1, 60, 33, 70, 29, 24, 91, 60, 69, 70, 60, 50, 81, 19, 29, 81, 19, 66, 49, 94, 1, 85, 99, 8, 20, 97, 75, 5, 38, 99, 3, 34, 60, 76, 92, 49, 91, 100, 54, 50, 93, 73, 56, 17, 46, 12, 4, 17, 63, 27, 33, 86, 55, 99, 80, 38, 53, 64, 49, 73, 44, 68, 74, 52, 74, 29, 43, 87, 3, 35, 77, 85, 89, 20, 89, 41, 69, 73, 72, 13, 91, 83, 27, 81, 73, 34, 36, 15, 8]\n"
          ]
        }
      ]
    },
    {
      "cell_type": "code",
      "source": [],
      "metadata": {
        "id": "SHkzXrMAyQtt"
      },
      "execution_count": null,
      "outputs": []
    }
  ]
}